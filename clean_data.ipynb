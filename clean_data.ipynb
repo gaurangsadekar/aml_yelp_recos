{
 "cells": [
  {
   "cell_type": "markdown",
   "metadata": {
    "collapsed": true
   },
   "source": [
    "## Step 1: Get data into a numpy array to make recommender matrix"
   ]
  },
  {
   "cell_type": "code",
   "execution_count": 2,
   "metadata": {
    "collapsed": true
   },
   "outputs": [],
   "source": [
    "import numpy as np\n",
    "import pandas as pd\n",
    "import json\n",
    "from pandas.io.json import json_normalize\n",
    "import pickle\n",
    "\n",
    "from scipy.sparse import lil_matrix as sparse_matrix"
   ]
  },
  {
   "cell_type": "markdown",
   "metadata": {},
   "source": [
    "---"
   ]
  },
  {
   "cell_type": "markdown",
   "metadata": {},
   "source": [
    "### Loading JSON files into Python objects and Pickling"
   ]
  },
  {
   "cell_type": "code",
   "execution_count": 3,
   "metadata": {
    "collapsed": false
   },
   "outputs": [],
   "source": [
    "users_f = open('yelp_dataset_challenge_academic_dataset/yelp_academic_dataset_user.json', 'r')\n",
    "users_json = []\n",
    "for user in users_f:\n",
    "    user_json = json.loads(user)\n",
    "    users_json.append(user_json)\n",
    "\n",
    "users_pd_json = json_normalize(users_json)\n",
    "users = users_pd_json[['user_id', 'average_stars', 'fans', 'review_count']]"
   ]
  },
  {
   "cell_type": "code",
   "execution_count": 4,
   "metadata": {
    "collapsed": false
   },
   "outputs": [],
   "source": [
    "users_map = {}\n",
    "count = 0\n",
    "for user in users['user_id']:\n",
    "    users_map[user] = count\n",
    "    count += 1"
   ]
  },
  {
   "cell_type": "code",
   "execution_count": 7,
   "metadata": {
    "collapsed": false
   },
   "outputs": [],
   "source": [
    "business_f = open('yelp_dataset_challenge_academic_dataset/yelp_academic_dataset_business.json', 'r')\n",
    "business_json = []\n",
    "for business_dump in business_f:\n",
    "    business_json.append(json.loads(business_dump))\n",
    "\n",
    "businesses = json_normalize(business_json)\n",
    "business_ids = business_pd['business_id']"
   ]
  },
  {
   "cell_type": "code",
   "execution_count": 8,
   "metadata": {
    "collapsed": false
   },
   "outputs": [],
   "source": [
    "business_map = {}\n",
    "count = 0\n",
    "for business in business_ids:\n",
    "    business_map[business] = count\n",
    "    count += 1"
   ]
  },
  {
   "cell_type": "code",
   "execution_count": 17,
   "metadata": {
    "collapsed": false
   },
   "outputs": [],
   "source": [
    "reviews_f = open('yelp_dataset_challenge_academic_dataset/yelp_academic_dataset_review.json', 'r')\n",
    "reviews_json = []\n",
    "for review_dump in reviews_f:\n",
    "    review_json_full = json.loads(review_dump)\n",
    "    review = {}\n",
    "    review['user_id'] = review_json_full['user_id']\n",
    "    review['review_id'] = review_json_full['review_id']\n",
    "    review['business_id'] = review_json_full['business_id']\n",
    "    review['stars'] = review_json_full['stars']\n",
    "    review['text'] = review_json_full['text']\n",
    "    reviews_json.append(review)\n",
    "    \n",
    "reviews = json_normalize(reviews_json)\n",
    "# reviews has everything that we need, will drop review text for first model"
   ]
  },
  {
   "cell_type": "code",
   "execution_count": 18,
   "metadata": {
    "collapsed": true
   },
   "outputs": [],
   "source": [
    "pickle.dump(users_map, open('users_map.p', 'w'))\n",
    "pickle.dump(business_map, open('business_map.p', 'w'))\n",
    "pickle.dump(reviews, open('reviews.p', 'wb'))"
   ]
  },
  {
   "cell_type": "code",
   "execution_count": 9,
   "metadata": {
    "collapsed": true
   },
   "outputs": [],
   "source": [
    "pickle.dump(users, open('users_pd.p', 'wb'))\n",
    "pickle.dump(businesses, open('businesses_pd.p', 'wb'))"
   ]
  },
  {
   "cell_type": "markdown",
   "metadata": {},
   "source": [
    "-----\n",
    "### Load objects directly from Pickle files"
   ]
  },
  {
   "cell_type": "code",
   "execution_count": 3,
   "metadata": {
    "collapsed": true
   },
   "outputs": [],
   "source": [
    "users_map = pickle.load(open('users_map.p', 'rb'))\n",
    "business_map = pickle.load(open('business_map.p', 'rb'))\n",
    "\n",
    "# pandas objects\n",
    "reviews = pickle.load(open('reviews.p', 'rb'))\n",
    "users = pickle.load(open('users_pd.p', 'rb'))\n",
    "businesses = pickle.load(open('businesses_pd.p', 'rb'))"
   ]
  },
  {
   "cell_type": "code",
   "execution_count": 34,
   "metadata": {
    "collapsed": true
   },
   "outputs": [],
   "source": [
    "l_users = len(users_map)\n",
    "l_business = len(business_map)"
   ]
  },
  {
   "cell_type": "code",
   "execution_count": 38,
   "metadata": {
    "collapsed": false
   },
   "outputs": [
    {
     "data": {
      "text/plain": [
       "0          None\n",
       "1          None\n",
       "2          None\n",
       "3          None\n",
       "4          None\n",
       "5          None\n",
       "6          None\n",
       "7          None\n",
       "8          None\n",
       "9          None\n",
       "10         None\n",
       "11         None\n",
       "12         None\n",
       "13         None\n",
       "14         None\n",
       "15         None\n",
       "16         None\n",
       "17         None\n",
       "18         None\n",
       "19         None\n",
       "20         None\n",
       "21         None\n",
       "22         None\n",
       "23         None\n",
       "24         None\n",
       "25         None\n",
       "26         None\n",
       "27         None\n",
       "28         None\n",
       "29         None\n",
       "           ... \n",
       "2225183    None\n",
       "2225184    None\n",
       "2225185    None\n",
       "2225186    None\n",
       "2225187    None\n",
       "2225188    None\n",
       "2225189    None\n",
       "2225190    None\n",
       "2225191    None\n",
       "2225192    None\n",
       "2225193    None\n",
       "2225194    None\n",
       "2225195    None\n",
       "2225196    None\n",
       "2225197    None\n",
       "2225198    None\n",
       "2225199    None\n",
       "2225200    None\n",
       "2225201    None\n",
       "2225202    None\n",
       "2225203    None\n",
       "2225204    None\n",
       "2225205    None\n",
       "2225206    None\n",
       "2225207    None\n",
       "2225208    None\n",
       "2225209    None\n",
       "2225210    None\n",
       "2225211    None\n",
       "2225212    None\n",
       "dtype: object"
      ]
     },
     "execution_count": 38,
     "metadata": {},
     "output_type": "execute_result"
    }
   ],
   "source": [
    "# create a numpy array that has users on x and business on y, can be flipped without problems\n",
    "ratings_matrix = sparse_matrix((l_users, l_business))\n",
    "\n",
    "def add_to_ratings(record):\n",
    "    i = users_map[record['user_id']]\n",
    "    j = business_map[record['business_id']]\n",
    "    ratings_matrix[i, j] = record['stars']\n",
    "\n",
    "reviews.apply(lambda record : add_to_ratings(record), axis=1)"
   ]
  },
  {
   "cell_type": "code",
   "execution_count": 41,
   "metadata": {
    "collapsed": false
   },
   "outputs": [],
   "source": [
    "pickle.dump(ratings_matrix, open('ratings_matrix.p', 'wb'))"
   ]
  },
  {
   "cell_type": "code",
   "execution_count": 42,
   "metadata": {
    "collapsed": true
   },
   "outputs": [],
   "source": [
    "ratings_matrix = pickle.load(open('ratings_matrix.p', 'rb'))"
   ]
  },
  {
   "cell_type": "code",
   "execution_count": 53,
   "metadata": {
    "collapsed": false
   },
   "outputs": [
    {
     "data": {
      "text/plain": [
       "(552339, 77445)"
      ]
     },
     "execution_count": 53,
     "metadata": {},
     "output_type": "execute_result"
    }
   ],
   "source": [
    "ratings_matrix.shape"
   ]
  },
  {
   "cell_type": "code",
   "execution_count": 43,
   "metadata": {
    "collapsed": false
   },
   "outputs": [
    {
     "data": {
      "text/plain": [
       "4.0"
      ]
     },
     "execution_count": 43,
     "metadata": {},
     "output_type": "execute_result"
    }
   ],
   "source": [
    "ratings_matrix[users_map['PUFPaY9KxDAcGqfsorJp3Q'], business_map['5UmKMjUEUNdYWqANhGckJw']]"
   ]
  },
  {
   "cell_type": "markdown",
   "metadata": {},
   "source": [
    "### Computing Baselines on Data"
   ]
  },
  {
   "cell_type": "code",
   "execution_count": 4,
   "metadata": {
    "collapsed": false
   },
   "outputs": [],
   "source": [
    "alpha = reviews['stars'].mean()"
   ]
  },
  {
   "cell_type": "code",
   "execution_count": 5,
   "metadata": {
    "collapsed": false
   },
   "outputs": [],
   "source": [
    "# users[['user_id', 'average_stars']]\n",
    "beta_users = []\n",
    "for i in range(0, len(users)):\n",
    "    user = users.iloc[i]\n",
    "    beta_users.append(user['average_stars'] - alpha)"
   ]
  },
  {
   "cell_type": "code",
   "execution_count": 6,
   "metadata": {
    "collapsed": false
   },
   "outputs": [],
   "source": [
    "beta_business = []\n",
    "for i in range(0, len(businesses)):\n",
    "    business = businesses.iloc[i]\n",
    "    beta_business.append(business['stars'] - alpha)"
   ]
  },
  {
   "cell_type": "code",
   "execution_count": 7,
   "metadata": {
    "collapsed": false
   },
   "outputs": [],
   "source": [
    "baselines = {}\n",
    "baselines['alpha'] = alpha\n",
    "baselines['beta_users'] = beta_users\n",
    "baselines['beta_business'] = beta_business"
   ]
  },
  {
   "cell_type": "code",
   "execution_count": 8,
   "metadata": {
    "collapsed": true
   },
   "outputs": [],
   "source": [
    "pickle.dump(baselines, open('baselines.p', 'wb'))"
   ]
  },
  {
   "cell_type": "code",
   "execution_count": 9,
   "metadata": {
    "collapsed": false
   },
   "outputs": [],
   "source": [
    "baselines = pickle.load(open('baselines.p', 'rb'))"
   ]
  }
 ],
 "metadata": {
  "kernelspec": {
   "display_name": "Python 2",
   "language": "python",
   "name": "python2"
  },
  "language_info": {
   "codemirror_mode": {
    "name": "ipython",
    "version": 2
   },
   "file_extension": ".py",
   "mimetype": "text/x-python",
   "name": "python",
   "nbconvert_exporter": "python",
   "pygments_lexer": "ipython2",
   "version": "2.7.10"
  }
 },
 "nbformat": 4,
 "nbformat_minor": 0
}
