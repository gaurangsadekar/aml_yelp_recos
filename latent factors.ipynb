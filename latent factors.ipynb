{
 "cells": [
  {
   "cell_type": "code",
   "execution_count": 1,
   "metadata": {
    "collapsed": false
   },
   "outputs": [],
   "source": [
    "import numpy as np\n",
    "from scipy.sparse import csr_matrix as sparse_mat\n",
    "import pickle\n",
    "import sys"
   ]
  },
  {
   "cell_type": "code",
   "execution_count": 2,
   "metadata": {
    "collapsed": true
   },
   "outputs": [],
   "source": [
    "def non_zero(sparse_matrix):\n",
    "    return np.transpose(sparse_matrix.nonzero())"
   ]
  },
  {
   "cell_type": "code",
   "execution_count": 3,
   "metadata": {
    "collapsed": true
   },
   "outputs": [],
   "source": [
    "def mean_nonzero(sparse_matrix):\n",
    "    points = non_zero(sparse_matrix)\n",
    "    sum = 0\n",
    "    for point in points:\n",
    "        sum += c[point[0], point[1]]\n",
    "    return sum / len(points)"
   ]
  },
  {
   "cell_type": "code",
   "execution_count": 3,
   "metadata": {
    "collapsed": false
   },
   "outputs": [],
   "source": [
    "ratings = pickle.load(open('pickles/ratings_matrix.p', 'rb'))"
   ]
  },
  {
   "cell_type": "code",
   "execution_count": 4,
   "metadata": {
    "collapsed": false
   },
   "outputs": [
    {
     "data": {
      "text/plain": [
       "(552339, 77445)"
      ]
     },
     "execution_count": 4,
     "metadata": {},
     "output_type": "execute_result"
    }
   ],
   "source": [
    "ratings.shape"
   ]
  },
  {
   "cell_type": "code",
   "execution_count": 16,
   "metadata": {
    "collapsed": true
   },
   "outputs": [],
   "source": [
    "def train(R, k=2, eta=1e-2, lamb=1e-2, threshold=1e-7, iterations=2500):\n",
    "    m, n = R.shape\n",
    "    U = np.random.uniform(-1, 1, (m, k))\n",
    "    B = np.random.uniform(-1, 1, (n, k))\n",
    "    i = 0\n",
    "    prev = 0\n",
    "    curr = sys.maxint\n",
    "    while i < iterations and abs(curr - prev) > threshold:\n",
    "        prev = curr\n",
    "        cost = 0\n",
    "        indices = non_zero(R)\n",
    "        for idx in indices[:1000]:\n",
    "            epsilon = R[idx[0], idx[1]] - np.dot(U[idx[0]], B[idx[1]].T)\n",
    "            U[idx[0], :] = U[idx[0], :] + eta * (epsilon * B[idx[1]] - lamb * U[idx[0], :])\n",
    "            B[idx[1], :] = B[idx[1], :] + eta * (epsilon * U[idx[0]] - lamb * B[idx[1], :])\n",
    "            cost += (R[idx[0], idx[1]] - np.dot(U[idx[0]], B[idx[1]].T )) ** 2 + \\\n",
    "                                    lamb * (np.linalg.norm(U[idx[0]])**2 + np.linalg.norm(B[idx[1]])**2)\n",
    "\n",
    "        cost = cost / len(non_zero(R))\n",
    "        curr = cost\n",
    "        print curr\n",
    "        i += 1\n",
    "        \n",
    "    print \"Total Iterations: \", i\n",
    "    return U, B"
   ]
  },
  {
   "cell_type": "code",
   "execution_count": 6,
   "metadata": {
    "collapsed": true
   },
   "outputs": [],
   "source": [
    "user_map = pickle.load(open('pickles/users_map.p', 'rb'))\n",
    "business_map = pickle.load(open('pickles/business_map.p', 'rb'))\n",
    "reviews = pickle.load(open('pickles/reviews.p', 'rb'))"
   ]
  },
  {
   "cell_type": "code",
   "execution_count": 7,
   "metadata": {
    "collapsed": true
   },
   "outputs": [],
   "source": [
    "baselines = pickle.load(open('pickles/baselines.p', 'rb'))"
   ]
  },
  {
   "cell_type": "code",
   "execution_count": 8,
   "metadata": {
    "collapsed": true
   },
   "outputs": [],
   "source": [
    "alpha = baselines['alpha']\n",
    "beta_users = baselines['beta_users']\n",
    "beta_business = baselines['beta_business']"
   ]
  },
  {
   "cell_type": "code",
   "execution_count": 9,
   "metadata": {
    "collapsed": false,
    "scrolled": true
   },
   "outputs": [],
   "source": [
    "# removing baselines from ratings data\n",
    "for idx in non_zero(ratings):\n",
    "    ratings[idx[0], idx[1]] -= (alpha + beta_users[idx[0]] + beta_business[idx[1]])"
   ]
  },
  {
   "cell_type": "code",
   "execution_count": 17,
   "metadata": {
    "collapsed": false,
    "scrolled": true
   },
   "outputs": [
    {
     "name": "stdout",
     "output_type": "stream",
     "text": [
      "0.000972858238993\n",
      "0.000827728432799\n",
      "0.000719478781504\n",
      "0.000635100261664\n",
      "0.000567218875413\n",
      "0.00051129480537\n",
      "0.000464357430568\n",
      "0.000424368774021\n",
      "0.000389876693696\n",
      "0.000359813964132\n",
      "0.000333375953871\n",
      "0.000309942992419\n",
      "0.000289029309504\n",
      "0.000270248389154\n",
      "0.000253288807349\n",
      "0.000237896965085\n",
      "0.000223864477046\n",
      "0.000211018777999\n",
      "0.000199216000405\n",
      "0.000188335486065\n",
      "0.000178275494313\n",
      "0.00016894980111\n",
      "0.000160284972189\n",
      "0.000152218154359\n",
      "0.000144695271408\n",
      "0.000137669540872\n",
      "0.000131100249028\n",
      "0.000124951736518\n",
      "0.000119192557729\n",
      "0.00011379478475\n",
      "0.000108733432274\n",
      "0.000103985983936\n",
      "9.95320036443e-05\n",
      "9.5352817919e-05\n",
      "9.14312572649e-05\n",
      "8.77514463102e-05\n",
      "8.42986339616e-05\n",
      "8.10590561637e-05\n",
      "7.80198250406e-05\n",
      "7.51688392447e-05\n",
      "7.24947112413e-05\n",
      "6.99867080296e-05\n",
      "6.76347024492e-05\n",
      "6.54291327557e-05\n",
      "6.33609685975e-05\n",
      "6.14216818847e-05\n",
      "5.96032213477e-05\n",
      "5.78979898297e-05\n",
      "5.62988235665e-05\n",
      "5.47989728802e-05\n",
      "Total Iterations:  50\n"
     ]
    }
   ],
   "source": [
    "U, B = train(ratings, k=10, iterations=50)"
   ]
  },
  {
   "cell_type": "code",
   "execution_count": 37,
   "metadata": {
    "collapsed": false
   },
   "outputs": [
    {
     "data": {
      "text/html": [
       "<div>\n",
       "<table border=\"1\" class=\"dataframe\">\n",
       "  <thead>\n",
       "    <tr style=\"text-align: right;\">\n",
       "      <th></th>\n",
       "      <th>business_id</th>\n",
       "      <th>review_id</th>\n",
       "      <th>stars</th>\n",
       "      <th>text</th>\n",
       "      <th>user_id</th>\n",
       "    </tr>\n",
       "  </thead>\n",
       "  <tbody>\n",
       "    <tr>\n",
       "      <th>0</th>\n",
       "      <td>5UmKMjUEUNdYWqANhGckJw</td>\n",
       "      <td>Ya85v4eqdd6k9Od8HbQjyA</td>\n",
       "      <td>4</td>\n",
       "      <td>Mr Hoagie is an institution. Walking in, it do...</td>\n",
       "      <td>PUFPaY9KxDAcGqfsorJp3Q</td>\n",
       "    </tr>\n",
       "    <tr>\n",
       "      <th>1</th>\n",
       "      <td>5UmKMjUEUNdYWqANhGckJw</td>\n",
       "      <td>KPvLNJ21_4wbYNctrOwWdQ</td>\n",
       "      <td>5</td>\n",
       "      <td>Excellent food. Superb customer service. I mis...</td>\n",
       "      <td>Iu6AxdBYGR4A0wspR9BYHA</td>\n",
       "    </tr>\n",
       "    <tr>\n",
       "      <th>2</th>\n",
       "      <td>5UmKMjUEUNdYWqANhGckJw</td>\n",
       "      <td>fFSoGV46Yxuwbr3fHNuZig</td>\n",
       "      <td>5</td>\n",
       "      <td>Yes this place is a little out dated and not o...</td>\n",
       "      <td>auESFwWvW42h6alXgFxAXQ</td>\n",
       "    </tr>\n",
       "    <tr>\n",
       "      <th>3</th>\n",
       "      <td>UsFtqoBl7naz8AVUBZMjQQ</td>\n",
       "      <td>Di3exaUCFNw1V4kSNW5pgA</td>\n",
       "      <td>5</td>\n",
       "      <td>All the food is great here. But the best thing...</td>\n",
       "      <td>uK8tzraOp4M5u3uYrqIBXg</td>\n",
       "    </tr>\n",
       "    <tr>\n",
       "      <th>4</th>\n",
       "      <td>UsFtqoBl7naz8AVUBZMjQQ</td>\n",
       "      <td>0Lua2-PbqEQMjD9r89-asw</td>\n",
       "      <td>3</td>\n",
       "      <td>We checked this place out this past Monday for...</td>\n",
       "      <td>I_47G-R2_egp7ME5u_ltew</td>\n",
       "    </tr>\n",
       "  </tbody>\n",
       "</table>\n",
       "</div>"
      ],
      "text/plain": [
       "              business_id               review_id  stars  \\\n",
       "0  5UmKMjUEUNdYWqANhGckJw  Ya85v4eqdd6k9Od8HbQjyA      4   \n",
       "1  5UmKMjUEUNdYWqANhGckJw  KPvLNJ21_4wbYNctrOwWdQ      5   \n",
       "2  5UmKMjUEUNdYWqANhGckJw  fFSoGV46Yxuwbr3fHNuZig      5   \n",
       "3  UsFtqoBl7naz8AVUBZMjQQ  Di3exaUCFNw1V4kSNW5pgA      5   \n",
       "4  UsFtqoBl7naz8AVUBZMjQQ  0Lua2-PbqEQMjD9r89-asw      3   \n",
       "\n",
       "                                                text                 user_id  \n",
       "0  Mr Hoagie is an institution. Walking in, it do...  PUFPaY9KxDAcGqfsorJp3Q  \n",
       "1  Excellent food. Superb customer service. I mis...  Iu6AxdBYGR4A0wspR9BYHA  \n",
       "2  Yes this place is a little out dated and not o...  auESFwWvW42h6alXgFxAXQ  \n",
       "3  All the food is great here. But the best thing...  uK8tzraOp4M5u3uYrqIBXg  \n",
       "4  We checked this place out this past Monday for...  I_47G-R2_egp7ME5u_ltew  "
      ]
     },
     "execution_count": 37,
     "metadata": {},
     "output_type": "execute_result"
    }
   ],
   "source": [
    "reviews.head(5)"
   ]
  },
  {
   "cell_type": "code",
   "execution_count": 21,
   "metadata": {
    "collapsed": false
   },
   "outputs": [
    {
     "data": {
      "text/plain": [
       "3.7173705244021273"
      ]
     },
     "execution_count": 21,
     "metadata": {},
     "output_type": "execute_result"
    }
   ],
   "source": [
    "np.dot(U[user_map['W-VlJfTsCTBjknjIoTgUqw']], B[business_map['WuCcv_Dyd_1B_1-4jwK7sQ']].T) + alpha + \\\n",
    "        beta_users[user_map['W-VlJfTsCTBjknjIoTgUqw']] + beta_business[business_map['WuCcv_Dyd_1B_1-4jwK7sQ']]"
   ]
  },
  {
   "cell_type": "code",
   "execution_count": 22,
   "metadata": {
    "collapsed": false
   },
   "outputs": [
    {
     "data": {
      "text/plain": [
       "-0.35609211342914149"
      ]
     },
     "execution_count": 22,
     "metadata": {},
     "output_type": "execute_result"
    }
   ],
   "source": [
    "beta_users[user_map['W-VlJfTsCTBjknjIoTgUqw']]"
   ]
  },
  {
   "cell_type": "code",
   "execution_count": 23,
   "metadata": {
    "collapsed": false
   },
   "outputs": [
    {
     "data": {
      "text/plain": [
       "-0.2560921134291414"
      ]
     },
     "execution_count": 23,
     "metadata": {},
     "output_type": "execute_result"
    }
   ],
   "source": [
    "beta_business[business_map['WuCcv_Dyd_1B_1-4jwK7sQ']]"
   ]
  },
  {
   "cell_type": "code",
   "execution_count": 20,
   "metadata": {
    "collapsed": false
   },
   "outputs": [
    {
     "data": {
      "text/plain": [
       "0.0"
      ]
     },
     "execution_count": 20,
     "metadata": {},
     "output_type": "execute_result"
    }
   ],
   "source": [
    "ratings[user_map['W-VlJfTsCTBjknjIoTgUqw'], business_map['WuCcv_Dyd_1B_1-4jwK7sQ']]"
   ]
  },
  {
   "cell_type": "code",
   "execution_count": null,
   "metadata": {
    "collapsed": true
   },
   "outputs": [],
   "source": []
  }
 ],
 "metadata": {
  "kernelspec": {
   "display_name": "Python 2",
   "language": "python",
   "name": "python2"
  },
  "language_info": {
   "codemirror_mode": {
    "name": "ipython",
    "version": 2
   },
   "file_extension": ".py",
   "mimetype": "text/x-python",
   "name": "python",
   "nbconvert_exporter": "python",
   "pygments_lexer": "ipython2",
   "version": "2.7.10"
  }
 },
 "nbformat": 4,
 "nbformat_minor": 0
}
