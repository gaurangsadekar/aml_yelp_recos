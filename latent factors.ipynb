{
 "cells": [
  {
   "cell_type": "code",
   "execution_count": 3,
   "metadata": {
    "collapsed": false
   },
   "outputs": [],
   "source": [
    "import numpy as np\n",
    "from scipy.sparse import csr_matrix as sparse_mat\n",
    "import pickle\n",
    "import sys\n",
    "from sklearn.cross_validation import train_test_split"
   ]
  },
  {
   "cell_type": "code",
   "execution_count": 4,
   "metadata": {
    "collapsed": true
   },
   "outputs": [],
   "source": [
    "def non_zero(sparse_matrix):\n",
    "    return np.transpose(sparse_matrix.nonzero())"
   ]
  },
  {
   "cell_type": "code",
   "execution_count": 5,
   "metadata": {
    "collapsed": false
   },
   "outputs": [],
   "source": [
    "ratings = pickle.load(open('pickles/ratings_matrix.p', 'rb'))"
   ]
  },
  {
   "cell_type": "code",
   "execution_count": 6,
   "metadata": {
    "collapsed": false
   },
   "outputs": [
    {
     "data": {
      "text/plain": [
       "(552339, 77445)"
      ]
     },
     "execution_count": 6,
     "metadata": {},
     "output_type": "execute_result"
    }
   ],
   "source": [
    "ratings.shape"
   ]
  },
  {
   "cell_type": "markdown",
   "metadata": {},
   "source": [
    "---\n",
    "## Splitting the Dataset into Training, Validation and Testing Sets"
   ]
  },
  {
   "cell_type": "code",
   "execution_count": 8,
   "metadata": {
    "collapsed": false
   },
   "outputs": [],
   "source": [
    "training = []\n",
    "validation = []\n",
    "testing = []\n",
    "for j, business in enumerate(ratings.T):\n",
    "    indices = non_zero(business)\n",
    "    indices = [[idx[1], j] for idx in indices]\n",
    "    if len(indices) > 10:\n",
    "        train, optimization = train_test_split(indices, test_size=0.3, random_state=42)\n",
    "        training.extend(train)\n",
    "        valid, test = train_test_split(optimization, test_size=0.33, random_state=42)\n",
    "        validation.extend(valid)\n",
    "        testing.extend(test)\n",
    "    else:\n",
    "        training.extend(indices)"
   ]
  },
  {
   "cell_type": "markdown",
   "metadata": {},
   "source": [
    "#### Saving split data into pickles, so that we can evaluate all models on the same training, validation and testing sets"
   ]
  },
  {
   "cell_type": "code",
   "execution_count": 10,
   "metadata": {
    "collapsed": false
   },
   "outputs": [],
   "source": [
    "pickle.dump(training, open('pickles/training_indices.p', 'wb'))\n",
    "pickle.dump(validation, open('pickles/validation_indices.p', 'wb'))\n",
    "pickle.dump(testing, open('pickles/testing_indices.p', 'wb'))"
   ]
  },
  {
   "cell_type": "code",
   "execution_count": 11,
   "metadata": {
    "collapsed": true
   },
   "outputs": [],
   "source": [
    "training = pickle.load(open('pickles/training_indices.p', 'rb'))\n",
    "validation = pickle.load(open('pickles/validation_indices.p', 'rb'))\n",
    "testing = pickle.load(open('pickles/testing_indices.p', 'rb'))"
   ]
  },
  {
   "cell_type": "markdown",
   "metadata": {},
   "source": [
    "## The Latent Factor Model, without considering reviews:"
   ]
  },
  {
   "cell_type": "code",
   "execution_count": 13,
   "metadata": {
    "collapsed": true
   },
   "outputs": [],
   "source": [
    "def train_latent_factors(R, training_indices, k=2, eta=1e-2, lamb=1e-2, threshold=1e-7, iterations=2500):\n",
    "    m, n = R.shape\n",
    "    U = np.random.uniform(-1, 1, (m, k))\n",
    "    B = np.random.uniform(-1, 1, (n, k))\n",
    "    i = 0\n",
    "    prev = 0\n",
    "    curr = sys.maxint\n",
    "    while i < iterations and abs(curr - prev) > threshold:\n",
    "        prev = curr\n",
    "        cost = 0\n",
    "        for idx in training_indices[:1000]:\n",
    "            epsilon = R[idx[0], idx[1]] - np.dot(U[idx[0]], B[idx[1]].T)\n",
    "            U[idx[0], :] = U[idx[0], :] + eta * (epsilon * B[idx[1]] - lamb * U[idx[0], :])\n",
    "            B[idx[1], :] = B[idx[1], :] + eta * (epsilon * U[idx[0]] - lamb * B[idx[1], :])\n",
    "            cost += (R[idx[0], idx[1]] - np.dot(U[idx[0]], B[idx[1]].T )) ** 2 + \\\n",
    "                                    lamb * (np.linalg.norm(U[idx[0]])**2 + np.linalg.norm(B[idx[1]])**2)\n",
    "\n",
    "        cost = cost / len(non_zero(R))\n",
    "        curr = cost\n",
    "        print curr\n",
    "        i += 1\n",
    "        \n",
    "    print \"Total Iterations: \", i\n",
    "    return U, B"
   ]
  },
  {
   "cell_type": "code",
   "execution_count": 16,
   "metadata": {
    "collapsed": true
   },
   "outputs": [],
   "source": [
    "user_map = pickle.load(open('pickles/users_map.p', 'rb'))\n",
    "business_map = pickle.load(open('pickles/business_map.p', 'rb'))\n",
    "reviews = pickle.load(open('pickles/reviews.p', 'rb'))"
   ]
  },
  {
   "cell_type": "markdown",
   "metadata": {},
   "source": [
    "#### Global and Individual Baselines have to be adjusted before training"
   ]
  },
  {
   "cell_type": "code",
   "execution_count": 17,
   "metadata": {
    "collapsed": true
   },
   "outputs": [],
   "source": [
    "baselines = pickle.load(open('pickles/baselines.p', 'rb'))\n",
    "alpha = baselines['alpha']\n",
    "beta_users = baselines['beta_users']\n",
    "beta_business = baselines['beta_business']"
   ]
  },
  {
   "cell_type": "code",
   "execution_count": 18,
   "metadata": {
    "collapsed": false,
    "scrolled": true
   },
   "outputs": [],
   "source": [
    "# removing baselines from ratings data\n",
    "for idx in non_zero(ratings):\n",
    "    ratings[idx[0], idx[1]] -= (alpha + beta_users[idx[0]] + beta_business[idx[1]])"
   ]
  },
  {
   "cell_type": "code",
   "execution_count": 19,
   "metadata": {
    "collapsed": false,
    "scrolled": true
   },
   "outputs": [
    {
     "name": "stdout",
     "output_type": "stream",
     "text": [
      "0.000850987737661\n",
      "0.000715884893602\n",
      "0.000621437228679\n",
      "0.000551492144223\n",
      "0.000497422119349\n",
      "0.000454202038018\n",
      "0.000418706776023\n",
      "0.000388890672492\n",
      "0.0003633590322\n",
      "0.000341129454906\n",
      "0.000321491573338\n",
      "0.000303920778515\n",
      "0.00028802302697\n",
      "0.000273498307584\n",
      "0.000260115728536\n",
      "0.000247696077583\n",
      "0.000236099327363\n",
      "0.0002252154965\n",
      "0.000214957840416\n",
      "0.000205257693694\n",
      "0.000196060506569\n",
      "0.000187322761477\n",
      "0.000179009550455\n",
      "0.000171092657916\n",
      "0.000163549036647\n",
      "0.000156359594491\n",
      "0.000149508229676\n",
      "0.000142981066994\n",
      "0.000136765857163\n",
      "0.00013085150906\n",
      "0.000125227730074\n",
      "0.000119884754202\n",
      "0.00011481314104\n",
      "0.000110003631786\n",
      "0.000105447050826\n",
      "0.000101134243525\n",
      "9.7056042538e-05\n",
      "9.32032562931e-05\n",
      "8.95666743826e-05\n",
      "8.61370854656e-05\n",
      "8.29053039624e-05\n",
      "7.98622024088e-05\n",
      "7.69987468342e-05\n",
      "7.43060329834e-05\n",
      "7.17753216215e-05\n",
      "6.93980715571e-05\n",
      "6.71659693821e-05\n",
      "6.50709552622e-05\n",
      "6.31052444006e-05\n",
      "6.12613440465e-05\n",
      "Total Iterations:  50\n"
     ]
    }
   ],
   "source": [
    "U, B = train_latent_factors(ratings, training, k=10, iterations=50)"
   ]
  },
  {
   "cell_type": "code",
   "execution_count": 20,
   "metadata": {
    "collapsed": false
   },
   "outputs": [
    {
     "data": {
      "text/html": [
       "<div>\n",
       "<table border=\"1\" class=\"dataframe\">\n",
       "  <thead>\n",
       "    <tr style=\"text-align: right;\">\n",
       "      <th></th>\n",
       "      <th>business_id</th>\n",
       "      <th>review_id</th>\n",
       "      <th>stars</th>\n",
       "      <th>text</th>\n",
       "      <th>user_id</th>\n",
       "    </tr>\n",
       "  </thead>\n",
       "  <tbody>\n",
       "    <tr>\n",
       "      <th>0</th>\n",
       "      <td>5UmKMjUEUNdYWqANhGckJw</td>\n",
       "      <td>Ya85v4eqdd6k9Od8HbQjyA</td>\n",
       "      <td>4</td>\n",
       "      <td>Mr Hoagie is an institution. Walking in, it do...</td>\n",
       "      <td>PUFPaY9KxDAcGqfsorJp3Q</td>\n",
       "    </tr>\n",
       "    <tr>\n",
       "      <th>1</th>\n",
       "      <td>5UmKMjUEUNdYWqANhGckJw</td>\n",
       "      <td>KPvLNJ21_4wbYNctrOwWdQ</td>\n",
       "      <td>5</td>\n",
       "      <td>Excellent food. Superb customer service. I mis...</td>\n",
       "      <td>Iu6AxdBYGR4A0wspR9BYHA</td>\n",
       "    </tr>\n",
       "    <tr>\n",
       "      <th>2</th>\n",
       "      <td>5UmKMjUEUNdYWqANhGckJw</td>\n",
       "      <td>fFSoGV46Yxuwbr3fHNuZig</td>\n",
       "      <td>5</td>\n",
       "      <td>Yes this place is a little out dated and not o...</td>\n",
       "      <td>auESFwWvW42h6alXgFxAXQ</td>\n",
       "    </tr>\n",
       "    <tr>\n",
       "      <th>3</th>\n",
       "      <td>UsFtqoBl7naz8AVUBZMjQQ</td>\n",
       "      <td>Di3exaUCFNw1V4kSNW5pgA</td>\n",
       "      <td>5</td>\n",
       "      <td>All the food is great here. But the best thing...</td>\n",
       "      <td>uK8tzraOp4M5u3uYrqIBXg</td>\n",
       "    </tr>\n",
       "    <tr>\n",
       "      <th>4</th>\n",
       "      <td>UsFtqoBl7naz8AVUBZMjQQ</td>\n",
       "      <td>0Lua2-PbqEQMjD9r89-asw</td>\n",
       "      <td>3</td>\n",
       "      <td>We checked this place out this past Monday for...</td>\n",
       "      <td>I_47G-R2_egp7ME5u_ltew</td>\n",
       "    </tr>\n",
       "  </tbody>\n",
       "</table>\n",
       "</div>"
      ],
      "text/plain": [
       "              business_id               review_id  stars  \\\n",
       "0  5UmKMjUEUNdYWqANhGckJw  Ya85v4eqdd6k9Od8HbQjyA      4   \n",
       "1  5UmKMjUEUNdYWqANhGckJw  KPvLNJ21_4wbYNctrOwWdQ      5   \n",
       "2  5UmKMjUEUNdYWqANhGckJw  fFSoGV46Yxuwbr3fHNuZig      5   \n",
       "3  UsFtqoBl7naz8AVUBZMjQQ  Di3exaUCFNw1V4kSNW5pgA      5   \n",
       "4  UsFtqoBl7naz8AVUBZMjQQ  0Lua2-PbqEQMjD9r89-asw      3   \n",
       "\n",
       "                                                text                 user_id  \n",
       "0  Mr Hoagie is an institution. Walking in, it do...  PUFPaY9KxDAcGqfsorJp3Q  \n",
       "1  Excellent food. Superb customer service. I mis...  Iu6AxdBYGR4A0wspR9BYHA  \n",
       "2  Yes this place is a little out dated and not o...  auESFwWvW42h6alXgFxAXQ  \n",
       "3  All the food is great here. But the best thing...  uK8tzraOp4M5u3uYrqIBXg  \n",
       "4  We checked this place out this past Monday for...  I_47G-R2_egp7ME5u_ltew  "
      ]
     },
     "execution_count": 20,
     "metadata": {},
     "output_type": "execute_result"
    }
   ],
   "source": [
    "reviews.head(5)"
   ]
  },
  {
   "cell_type": "code",
   "execution_count": 21,
   "metadata": {
    "collapsed": false
   },
   "outputs": [
    {
     "data": {
      "text/plain": [
       "1.9104009473961998"
      ]
     },
     "execution_count": 21,
     "metadata": {},
     "output_type": "execute_result"
    }
   ],
   "source": [
    "np.dot(U[user_map['W-VlJfTsCTBjknjIoTgUqw']], B[business_map['WuCcv_Dyd_1B_1-4jwK7sQ']].T) + alpha + \\\n",
    "        beta_users[user_map['W-VlJfTsCTBjknjIoTgUqw']] + beta_business[business_map['WuCcv_Dyd_1B_1-4jwK7sQ']]"
   ]
  },
  {
   "cell_type": "code",
   "execution_count": 22,
   "metadata": {
    "collapsed": false
   },
   "outputs": [
    {
     "data": {
      "text/plain": [
       "1561427"
      ]
     },
     "execution_count": 22,
     "metadata": {},
     "output_type": "execute_result"
    }
   ],
   "source": [
    "len(training)"
   ]
  },
  {
   "cell_type": "code",
   "execution_count": 23,
   "metadata": {
    "collapsed": false
   },
   "outputs": [
    {
     "data": {
      "text/plain": [
       "385158"
      ]
     },
     "execution_count": 23,
     "metadata": {},
     "output_type": "execute_result"
    }
   ],
   "source": [
    "len(validation)"
   ]
  },
  {
   "cell_type": "code",
   "execution_count": 24,
   "metadata": {
    "collapsed": false
   },
   "outputs": [
    {
     "data": {
      "text/plain": [
       "208836"
      ]
     },
     "execution_count": 24,
     "metadata": {},
     "output_type": "execute_result"
    }
   ],
   "source": [
    "len(testing)"
   ]
  },
  {
   "cell_type": "code",
   "execution_count": null,
   "metadata": {
    "collapsed": true
   },
   "outputs": [],
   "source": []
  }
 ],
 "metadata": {
  "kernelspec": {
   "display_name": "Python 2",
   "language": "python",
   "name": "python2"
  },
  "language_info": {
   "codemirror_mode": {
    "name": "ipython",
    "version": 2
   },
   "file_extension": ".py",
   "mimetype": "text/x-python",
   "name": "python",
   "nbconvert_exporter": "python",
   "pygments_lexer": "ipython2",
   "version": "2.7.10"
  }
 },
 "nbformat": 4,
 "nbformat_minor": 0
}
